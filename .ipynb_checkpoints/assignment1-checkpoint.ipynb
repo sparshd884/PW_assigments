{
 "cells": [
  {
   "cell_type": "code",
   "execution_count": 1,
   "id": "4ac6ad3a-b0a0-4634-9a8c-f46ca5ac1f70",
   "metadata": {},
   "outputs": [
    {
     "name": "stdout",
     "output_type": "stream",
     "text": [
      "ti gnivol m'i\n"
     ]
    }
   ],
   "source": [
    "#WAP to reverse a string\n",
    "str1='i\\'m loving it'\n",
    "reverse_str1=str1[::-1]\n",
    "print(reverse_str1)\n"
   ]
  },
  {
   "cell_type": "code",
   "execution_count": 3,
   "id": "185f3db7-78b9-46e2-a441-a87267917730",
   "metadata": {},
   "outputs": [
    {
     "name": "stdout",
     "output_type": "stream",
     "text": [
      "3\n"
     ]
    }
   ],
   "source": [
    "#WAP to count vowel in string\n",
    "count=0\n",
    "vowel=['a','e','i','o','u']\n",
    "\n",
    "test_str=\"hello world\"\n",
    "for i in test_str:\n",
    "    if i in vowel:\n",
    "        count+=1\n",
    "        \n",
    "print(count)"
   ]
  },
  {
   "cell_type": "code",
   "execution_count": 10,
   "id": "f8da8bfd-08de-4008-9d24-a7885d73a727",
   "metadata": {},
   "outputs": [
    {
     "name": "stdin",
     "output_type": "stream",
     "text": [
      "enter a number 188\n"
     ]
    },
    {
     "name": "stdout",
     "output_type": "stream",
     "text": [
      "not a plaindrome\n"
     ]
    }
   ],
   "source": [
    "#WAP to check if a number is palindrome or not\n",
    "no=input(\"enter a number\")\n",
    "if no[::-1]==no:\n",
    "    print(\"plaindrome\")\n",
    "else:\n",
    "    print(\"not a plaindrome\")"
   ]
  },
  {
   "cell_type": "code",
   "execution_count": 12,
   "id": "aad535c7-d80c-4c27-864d-18952a5f2934",
   "metadata": {},
   "outputs": [
    {
     "name": "stdin",
     "output_type": "stream",
     "text": [
      "enter str1: silent\n",
      "enter str2: listen\n"
     ]
    },
    {
     "name": "stdout",
     "output_type": "stream",
     "text": [
      "anagram it is\n"
     ]
    }
   ],
   "source": [
    "#To find if two string are anagram of each other \n",
    "str1=input(\"enter str1:\")\n",
    "str2=input(\"enter str2:\")\n",
    "flag=True\n",
    "for i in str1:\n",
    "    if i not in list(str2):\n",
    "        flag=!flag\n",
    "        \n",
    "if flag==True:\n",
    "    print(\"anagram it is\")\n",
    "else:\n",
    "    print(\"not an anagram\")"
   ]
  },
  {
   "cell_type": "code",
   "execution_count": 2,
   "id": "8d6709b3-126d-430b-9577-2fc4dbc010e7",
   "metadata": {},
   "outputs": [
    {
     "name": "stdout",
     "output_type": "stream",
     "text": [
      "3\n"
     ]
    }
   ],
   "source": [
    "#to find the number of occerence of substring in a string\n",
    "sub_str=\"hell\"\n",
    "main_str=\"hello world,i'm mr hello are you a hello\"\n",
    "\n",
    "count=main_str.count(sub_str)\n",
    "print(count)"
   ]
  },
  {
   "cell_type": "code",
   "execution_count": 7,
   "id": "fa6c4cee-e1da-466c-8d62-e31874e6ff2c",
   "metadata": {},
   "outputs": [
    {
     "name": "stdout",
     "output_type": "stream",
     "text": [
      "a5\n"
     ]
    }
   ],
   "source": [
    "#WAP to perform basic string compresion using the count of character in pythhon          X\n",
    "input_string = \"aabcccccaaa\"\n",
    "new_str=\"\"\n",
    "for i,char in enumerate(input_string):\n",
    "    count=input_string.count(char)\n",
    "    new_str=char+str(count)\n",
    "    while i+1==i:\n",
    "        i+=1\n",
    "        \n",
    "print(new_str)"
   ]
  },
  {
   "cell_type": "code",
   "execution_count": 10,
   "id": "6e4565e0-90df-4098-b36d-d2c290a28849",
   "metadata": {},
   "outputs": [
    {
     "name": "stdout",
     "output_type": "stream",
     "text": [
      "not unique\n"
     ]
    }
   ],
   "source": [
    "#To determine if acharacter in a string are all unique \n",
    "main_str=\"hello world,i'm mr hello are you a hello\"\n",
    "flag=True\n",
    "for i in main_str:\n",
    "    count=main_str.count(i)\n",
    "    if(count>1):\n",
    "        print(\"not unique\")\n",
    "        flag=!flag\n",
    "        break\n",
    "    \n",
    "if(flag==True):\n",
    "    print(\"unique\")\n",
    "    \n",
    "    "
   ]
  },
  {
   "cell_type": "code",
   "execution_count": 15,
   "id": "35c32ff7-193f-475a-bf6c-677f646b67a8",
   "metadata": {},
   "outputs": [
    {
     "name": "stdout",
     "output_type": "stream",
     "text": [
      "hello world,i'm mr hello are you a hello \n",
      " HELLO WORLD,I'M MR HELLO ARE YOU A HELLO\n"
     ]
    }
   ],
   "source": [
    "#write a code to convert the given string in upper and lower case\n",
    "main_str=\"hello world,i'm mr hello are you a hello\"\n",
    "lowerd=main_str.lower()\n",
    "upperd=main_str.upper()\n",
    "\n",
    "print(lowerd,\"\\n\",upperd)"
   ]
  },
  {
   "cell_type": "code",
   "execution_count": 16,
   "id": "caa0b891-1fc4-43d0-96ce-d7ad7347fcb1",
   "metadata": {},
   "outputs": [
    {
     "name": "stdout",
     "output_type": "stream",
     "text": [
      "8\n"
     ]
    }
   ],
   "source": [
    "#WAP to find thhe number of words in a string\n",
    "main_str=\"hello world,i'm mr hello are you a hello\"\n",
    "temp=main_str.split(\" \")\n",
    "print(len(temp))"
   ]
  },
  {
   "cell_type": "code",
   "execution_count": 19,
   "id": "ac0c20af-a48b-4cdb-87d8-da942058caa7",
   "metadata": {},
   "outputs": [
    {
     "name": "stdout",
     "output_type": "stream",
     "text": [
      "helloworld\n"
     ]
    }
   ],
   "source": [
    "#to join two string without using + \n",
    "str1=\"hello\"\n",
    "str2=\"world\"\n",
    "result=\"\".join([str1,str2])\n",
    "print(result)"
   ]
  },
  {
   "cell_type": "code",
   "execution_count": 21,
   "id": "a2f0fd53-5f94-48c9-98de-c14e868dee38",
   "metadata": {},
   "outputs": [
    {
     "name": "stdout",
     "output_type": "stream",
     "text": [
      "['santa', 'ghanta', 'gotya']\n"
     ]
    }
   ],
   "source": [
    "#to remove all the occrence from thhe list \n",
    "temp_list=[\"santa\",\"banta\",\"ghanta\",\"gotya\"]\n",
    "temp_list.remove(\"banta\")\n",
    "print(temp_list)"
   ]
  },
  {
   "cell_type": "code",
   "execution_count": 22,
   "id": "a0c5bb0e-ed57-4703-9854-40d00da1453d",
   "metadata": {},
   "outputs": [
    {
     "name": "stdout",
     "output_type": "stream",
     "text": [
      "1\n"
     ]
    }
   ],
   "source": [
    "#to find 2nd largest number \n",
    "num=[1,2,3,4,5,6,7,8,9,0]\n",
    "num.sort()\n",
    "print(num[1])"
   ]
  },
  {
   "cell_type": "code",
   "execution_count": 23,
   "id": "5d517ce3-6e87-48c6-a574-df61b7e2b856",
   "metadata": {},
   "outputs": [
    {
     "name": "stdout",
     "output_type": "stream",
     "text": [
      "{'santa': 1, 'banta': 1, 'ghanta': 1, 'gotya': 1}\n"
     ]
    }
   ],
   "source": [
    "#to convert a list to dict while keeping its item as keys and count as value \n",
    "temp_list=[\"santa\",\"banta\",\"ghanta\",\"gotya\"]\n",
    "temp_dict={}\n",
    "\n",
    "for i in temp_list:\n",
    "    temp_dict[i]=temp_list.count(i)\n",
    "    \n",
    "print(temp_dict)"
   ]
  },
  {
   "cell_type": "code",
   "execution_count": 32,
   "id": "9c9dec5b-8636-42b4-a38c-fefac05ba68c",
   "metadata": {},
   "outputs": [
    {
     "name": "stdout",
     "output_type": "stream",
     "text": [
      "['gotya', 'ghanta', 'banta', 'santa']\n"
     ]
    }
   ],
   "source": [
    "#To reverse a list without inbuilt func\n",
    "temp_list = [\"santa\", \"banta\", \"ghanta\", \"gotya\"]\n",
    "start = 0\n",
    "end = len(temp_list) - 1  \n",
    "\n",
    "while start < end:\n",
    "   \n",
    "    temp_list[start], temp_list[end] = temp_list[end], temp_list[start]\n",
    "    \n",
    "    \n",
    "    start += 1\n",
    "    end -= 1\n",
    "\n",
    "print(temp_list)\n"
   ]
  },
  {
   "cell_type": "code",
   "execution_count": 35,
   "id": "0e437cac-d186-41bb-826b-8d24ef3897e8",
   "metadata": {},
   "outputs": [
    {
     "name": "stdout",
     "output_type": "stream",
     "text": [
      "true\n"
     ]
    }
   ],
   "source": [
    "#to check if list is sorted\n",
    "lst2 = [1, 2, 4, 5]\n",
    "\n",
    "if(lst2==sorted(lst2)):\n",
    "    print(\"true\")\n",
    "else:\n",
    "    print(\"false\")"
   ]
  },
  {
   "cell_type": "code",
   "execution_count": 40,
   "id": "e3f4e667-cef6-4d87-bf9a-4deacb3f842b",
   "metadata": {},
   "outputs": [
    {
     "name": "stdout",
     "output_type": "stream",
     "text": [
      "[1, 2, 3, 4, 5, 6, 7, 8, 8, 9, 10]\n"
     ]
    }
   ],
   "source": [
    "#to combine two sorted list into single sorted list \n",
    "import heapq\n",
    "lst1=[1,2,3,4,5,8]\n",
    "lst2=[6,7,8,9,10]\n",
    "\n",
    "lst3=list(heapq.merge(lst1,lst2))\n",
    "print(lst3)"
   ]
  },
  {
   "cell_type": "code",
   "execution_count": 43,
   "id": "f2d162e0-3575-4f49-8804-f12ebbf96c15",
   "metadata": {},
   "outputs": [
    {
     "name": "stdout",
     "output_type": "stream",
     "text": [
      "[8]\n"
     ]
    }
   ],
   "source": [
    "#intersection of two list\n",
    "lst1=[1,2,3,4,5,8]\n",
    "lst2=[6,7,8,9,10]\n",
    "\n",
    "print(list(set(lst1) & set(lst2)))"
   ]
  },
  {
   "cell_type": "code",
   "execution_count": 44,
   "id": "a5ead52a-659e-42d1-9d38-55d6ee885738",
   "metadata": {},
   "outputs": [
    {
     "name": "stdout",
     "output_type": "stream",
     "text": [
      "[1, 2, 3, 4, 5, 6, 7, 8, 9, 10]\n"
     ]
    }
   ],
   "source": [
    "#union of two list without duplicate\n",
    "lst1=[1,2,3,4,5,8]\n",
    "lst2=[6,7,8,9,10]\n",
    "\n",
    "print(list(set(lst1) | set(lst2)))"
   ]
  },
  {
   "cell_type": "code",
   "execution_count": 48,
   "id": "1b970db5-1b49-4a17-9e89-a0b7cbc1803e",
   "metadata": {},
   "outputs": [
    {
     "name": "stdout",
     "output_type": "stream",
     "text": [
      "[3, 4, 7, 1, 8, 5, 2, 6]\n"
     ]
    }
   ],
   "source": [
    "#to shuffle a list randomly without inbuilt function\n",
    "import random\n",
    "lst1=[1,2,3,4,5,6,7,8]\n",
    "n=len(lst1)\n",
    "for i in range(n-1,0,-1):\n",
    "    j=random.randint(0,i)\n",
    "    lst1[i],lst1[j]=lst1[j],lst1[i]\n",
    "\n",
    "print(lst1)"
   ]
  },
  {
   "cell_type": "code",
   "execution_count": 2,
   "id": "c63d59da-a37d-4a27-b14f-58afbce26685",
   "metadata": {},
   "outputs": [
    {
     "name": "stdin",
     "output_type": "stream",
     "text": [
      "enter the tupple 1 2 3 4 5\n",
      "enter the second tupple 1 2 3 7 8\n"
     ]
    },
    {
     "name": "stdout",
     "output_type": "stream",
     "text": [
      "('3', '2', '1')\n"
     ]
    }
   ],
   "source": [
    "#WAP to take two tupple and return common element\n",
    "input_str=input(\"enter the tupple\")\n",
    "input_str2=input(\"enter the second tupple\")\n",
    "\n",
    "input_str=input_str.split(\" \")\n",
    "input_str2=input_str2.split(\" \")\n",
    "\n",
    "final=tuple(set(input_str) & set(input_str2))\n",
    "print(final)"
   ]
  },
  {
   "cell_type": "code",
   "execution_count": 3,
   "id": "23d3ba02-f76b-4850-afda-422d0102cbd0",
   "metadata": {},
   "outputs": [
    {
     "name": "stdin",
     "output_type": "stream",
     "text": [
      "enter the tupple 1 2 3 4 5\n",
      "enter the second tupple 1 2 3 7 8\n"
     ]
    },
    {
     "name": "stdout",
     "output_type": "stream",
     "text": [
      "('3', '2', '1')\n"
     ]
    }
   ],
   "source": [
    "#WAP to take two integer set and find its intersection\n",
    "input_str=input(\"enter the tupple\")\n",
    "input_str2=input(\"enter the second tupple\")\n",
    "\n",
    "input_str=input_str.split(\" \")\n",
    "input_str2=input_str2.split(\" \")\n",
    "\n",
    "final=tuple(set(input_str) & set(input_str2))\n",
    "print(final)"
   ]
  },
  {
   "cell_type": "code",
   "execution_count": 4,
   "id": "aae8c224-3282-4325-825d-2742f883a618",
   "metadata": {},
   "outputs": [
    {
     "name": "stdin",
     "output_type": "stream",
     "text": [
      "enter the tupple 1 2 3 4 5\n",
      "enter the second tupple 1 2 3 \n"
     ]
    },
    {
     "name": "stdout",
     "output_type": "stream",
     "text": [
      "('1', '2', '3', '4', '5', '1', '2', '3', '')\n"
     ]
    }
   ],
   "source": [
    "#WAP to take two tupple and concat them\n",
    "\n",
    "input_str=input(\"enter the tupple\")\n",
    "input_str2=input(\"enter the second tupple\")\n",
    "\n",
    "input_str=tuple(input_str.split(\" \"))\n",
    "input_str2=tuple(input_str2.split(\" \"))\n",
    "\n",
    "print(input_str+input_str2)"
   ]
  },
  {
   "cell_type": "code",
   "execution_count": 5,
   "id": "00483de7-b1ec-4995-9601-8de04663f82c",
   "metadata": {},
   "outputs": [
    {
     "name": "stdin",
     "output_type": "stream",
     "text": [
      "enter the tupple 1 2 3 4 5\n",
      "enter the second tupple 1 2 3 6 7\n"
     ]
    },
    {
     "name": "stdout",
     "output_type": "stream",
     "text": [
      "5\n",
      "2\n",
      "4\n",
      "3\n",
      "1\n"
     ]
    }
   ],
   "source": [
    "#WAP to take two set as input and print item of first \n",
    "input_str=input(\"enter the tupple\")\n",
    "input_str2=input(\"enter the second tupple\")\n",
    "\n",
    "input_str=set(input_str.split(\" \"))\n",
    "input_str2=set(input_str2.split(\" \"))\n",
    "\n",
    "for i in input_str:\n",
    "    print(i)"
   ]
  },
  {
   "cell_type": "code",
   "execution_count": 6,
   "id": "dfa24032-5d56-4413-b694-d88ae5a7adb7",
   "metadata": {},
   "outputs": [
    {
     "name": "stdout",
     "output_type": "stream",
     "text": [
      "2\n",
      "3\n",
      "4\n",
      "5\n",
      "6\n",
      "7\n"
     ]
    }
   ],
   "source": [
    "#WAP to find element between two int in tupple\n",
    "\n",
    "tup=(1,2,3,4,5,6,7,8,9,10)\n",
    "a=2\n",
    "b=8\n",
    "\n",
    "index_a=tup.index(a)\n",
    "index_b=tup.index(b)\n",
    "\n",
    "for i in range(index_a,index_b):\n",
    "    print(tup[i])"
   ]
  },
  {
   "cell_type": "code",
   "execution_count": 7,
   "id": "97b26cf8-780e-4118-8fe9-e265038dd65f",
   "metadata": {},
   "outputs": [
    {
     "name": "stdin",
     "output_type": "stream",
     "text": [
      "enter the tupple 1 2 3 4 5 6 \n",
      "enter the second tupple 7\n"
     ]
    },
    {
     "name": "stdout",
     "output_type": "stream",
     "text": [
      "('', '4', '5', '3', '7', '2', '1', '6')\n"
     ]
    }
   ],
   "source": [
    "#WAP to take two set from a user and find its union \n",
    "\n",
    "input_str=input(\"enter the tupple\")\n",
    "input_str2=input(\"enter the second tupple\")\n",
    "\n",
    "input_str=input_str.split(\" \")\n",
    "input_str2=input_str2.split(\" \")\n",
    "\n",
    "final=tuple(set(input_str) | set(input_str2))\n",
    "print(final)"
   ]
  },
  {
   "cell_type": "code",
   "execution_count": 16,
   "id": "f731e544-56d9-41f4-ab99-ceba28494d35",
   "metadata": {},
   "outputs": [
    {
     "name": "stdout",
     "output_type": "stream",
     "text": [
      "max: 9 min: 1\n"
     ]
    }
   ],
   "source": [
    "#WAP to find the max and min and use tuple unpacking\n",
    "tup=(1,2,3,4,5,6,7,8,9)\n",
    "a,*c=tup\n",
    "\n",
    "result=[a] + c\n",
    "maxu=max(result)\n",
    "minu=min(result)\n",
    "print(\"max:\",maxu,\"min:\",minu)"
   ]
  },
  {
   "cell_type": "code",
   "execution_count": 17,
   "id": "4ba9c0c9-67ed-41d4-955e-e3465b81e272",
   "metadata": {},
   "outputs": [
    {
     "name": "stdout",
     "output_type": "stream",
     "text": [
      "union: {1, 2, 3, 4, 5, 6, 8, 9}\n",
      "intersection {1, 2, 3, 4}\n",
      "difference {5, 6}\n"
     ]
    }
   ],
   "source": [
    "#WAP to find union,intersection and difference of two sets\n",
    "a={1,2,3,4,5,6}\n",
    "b={1,2,3,4,8,9}\n",
    "\n",
    "print(\"union:\",a|b)\n",
    "print(\"intersection\",a&b)\n",
    "print(\"difference\",a-b)"
   ]
  },
  {
   "cell_type": "code",
   "execution_count": 20,
   "id": "cf021ad0-7945-47f2-9939-62b5f49a9d98",
   "metadata": {},
   "outputs": [
    {
     "name": "stdin",
     "output_type": "stream",
     "text": [
      "enter the tuple: 1 2 3 4 5 \n",
      "enter a int: 1\n"
     ]
    },
    {
     "name": "stdout",
     "output_type": "stream",
     "text": [
      "1\n"
     ]
    }
   ],
   "source": [
    "#WAP to take tuple as input and find the occerence of the given int\n",
    "a=input(\"enter the tuple:\")\n",
    "tup=tuple(a.split(\" \"))\n",
    "b=input(\"enter a int:\")\n",
    "\n",
    "print(tup.count(b))\n"
   ]
  },
  {
   "cell_type": "code",
   "execution_count": 21,
   "id": "3bdf2780-88a8-42ba-99a2-2facc568d53b",
   "metadata": {},
   "outputs": [
    {
     "name": "stdout",
     "output_type": "stream",
     "text": [
      "{8, 9, 5, 6}\n"
     ]
    }
   ],
   "source": [
    "#WAP to find the symetric differnce between two set \n",
    "a={1,2,3,4,5,6}\n",
    "b={1,2,3,4,8,9}\n",
    "\n",
    "print((a | b)-(a & b))"
   ]
  },
  {
   "cell_type": "code",
   "execution_count": 27,
   "id": "e306fcf1-40f1-43c7-881f-04e030ef4ac4",
   "metadata": {},
   "outputs": [
    {
     "name": "stdin",
     "output_type": "stream",
     "text": [
      "enter the values of list: 1 2 3 4 5 \n"
     ]
    },
    {
     "name": "stdout",
     "output_type": "stream",
     "text": [
      "{'1': 1, '2': 1, '3': 1, '4': 1, '5': 1}\n"
     ]
    }
   ],
   "source": [
    "#WAP to take list of unique words and convert it into dict withh keys being words and values being there count\n",
    "a=input(\"enter the values of list:\")\n",
    "lis = a.strip().split(\" \")\n",
    "dict={}\n",
    "for i in lis:\n",
    "        count=lis.count(i)\n",
    "        dict[i]=count\n",
    "        \n",
    "        \n",
    "print(dict)"
   ]
  },
  {
   "cell_type": "code",
   "execution_count": 40,
   "id": "ad05033e-dafb-467b-bad3-b32b8c2352c2",
   "metadata": {},
   "outputs": [
    {
     "name": "stdout",
     "output_type": "stream",
     "text": [
      "Merged dictionary: {'b': 5, 'c': 3, 'a': 1, 'd': 4, 'e': 5}\n"
     ]
    }
   ],
   "source": [
    "#WAP to take two dictanary and merge them in such a way that common element get add togther\n",
    "dict = {'a': 1, 'b': 2}\n",
    "\n",
    "dict1 = {'a': 1, 'b': 2, 'c': 3}\n",
    "dict2 = {'b': 3, 'd': 4, 'e': 5}\n",
    "\n",
    "\n",
    "merged_dict = {}\n",
    "\n",
    "\n",
    "common_keys = set(dict1.keys()) & set(dict2.keys())\n",
    "\n",
    "\n",
    "for key in common_keys:\n",
    "    merged_dict[key] = dict1[key] + dict2[key]\n",
    "\n",
    "\n",
    "for key in dict1.keys() - dict2.keys():\n",
    "    merged_dict[key] = dict1[key]\n",
    "\n",
    "\n",
    "for key in dict2.keys() - dict1.keys():\n",
    "    merged_dict[key] = dict2[key]\n",
    "\n",
    "print(\"Merged dictionary:\", merged_dict)\n",
    "\n"
   ]
  },
  {
   "cell_type": "code",
   "execution_count": 41,
   "id": "16c10414-7996-42f3-af55-87746102b955",
   "metadata": {},
   "outputs": [
    {
     "name": "stdin",
     "output_type": "stream",
     "text": [
      "enter thhe name John\n"
     ]
    },
    {
     "name": "stdout",
     "output_type": "stream",
     "text": [
      "{'age': 30, 'position': 'Software Engineer', 'salary': 70000}\n"
     ]
    }
   ],
   "source": [
    "#WAP take a dict and take keys from user and show its vlaues\n",
    "\n",
    "employee_details = {\n",
    "    'John': {\n",
    "        'age': 30,\n",
    "        'position': 'Software Engineer',\n",
    "        'salary': 70000\n",
    "    },\n",
    "    'Alice': {\n",
    "        'age': 28,\n",
    "        'position': 'Data Scientist',\n",
    "        'salary': 80000\n",
    "    },\n",
    "    'Bob': {\n",
    "        'age': 35,\n",
    "        'position': 'Team Lead',\n",
    "        'salary': 90000\n",
    "    }\n",
    "}\n",
    "\n",
    "a=input(\"enter thhe name\")\n",
    "\n",
    "if a in employee_details.keys():\n",
    "    print(employee_details[a])\n",
    "else:\n",
    "    print(\"none\")"
   ]
  },
  {
   "cell_type": "code",
   "execution_count": 43,
   "id": "a5269cde-2ad4-4603-8c7d-197cd8329cd5",
   "metadata": {},
   "outputs": [
    {
     "name": "stdout",
     "output_type": "stream",
     "text": [
      "Sorted dictionary based on values: {'a': 1, 'c': 2, 'b': 3, 'd': 5}\n"
     ]
    }
   ],
   "source": [
    "#WAP to take dict as input and sort them on the basis of there values                 X\n",
    "\n",
    "my_dict = {'b': 3, 'a': 1, 'c': 2, 'd': 5}\n",
    "\n",
    "\n",
    "sorted_items = sorted(my_dict.items(), key=lambda item: item[1])\n",
    "\n",
    "\n",
    "sorted_dict = {k: v for k, v in sorted_items}\n",
    "\n",
    "\n",
    "print(\"Sorted dictionary based on values:\", sorted_dict)\n"
   ]
  },
  {
   "cell_type": "code",
   "execution_count": 44,
   "id": "a55cda5b-2a11-4dee-833e-622a59a32dbd",
   "metadata": {},
   "outputs": [
    {
     "name": "stdout",
     "output_type": "stream",
     "text": [
      "Original dictionary: {'a': 1, 'b': 2, 'c': 3, 'd': 4}\n",
      "Inverted dictionary: {1: 'a', 2: 'b', 3: 'c', 4: 'd'}\n"
     ]
    }
   ],
   "source": [
    "#WAP to invert keys and values \n",
    "\n",
    "my_dict = {'a': 1, 'b': 2, 'c': 3, 'd': 4}\n",
    "\n",
    "\n",
    "inverted_dict = {v: k for k, v in my_dict.items()}\n",
    "\n",
    "\n",
    "print(\"Original dictionary:\", my_dict)\n",
    "print(\"Inverted dictionary:\", inverted_dict)\n"
   ]
  },
  {
   "cell_type": "code",
   "execution_count": null,
   "id": "b5a578c7-a9ea-49f8-92fc-5ae1b2af271f",
   "metadata": {},
   "outputs": [],
   "source": []
  }
 ],
 "metadata": {
  "kernelspec": {
   "display_name": "Python 3 (ipykernel)",
   "language": "python",
   "name": "python3"
  },
  "language_info": {
   "codemirror_mode": {
    "name": "ipython",
    "version": 3
   },
   "file_extension": ".py",
   "mimetype": "text/x-python",
   "name": "python",
   "nbconvert_exporter": "python",
   "pygments_lexer": "ipython3",
   "version": "3.10.8"
  }
 },
 "nbformat": 4,
 "nbformat_minor": 5
}
